{
  "nbformat": 4,
  "nbformat_minor": 0,
  "metadata": {
    "kernelspec": {
      "display_name": "Python 3",
      "language": "python",
      "name": "python3"
    },
    "language_info": {
      "codemirror_mode": {
        "name": "ipython",
        "version": 3
      },
      "file_extension": ".py",
      "mimetype": "text/x-python",
      "name": "python",
      "nbconvert_exporter": "python",
      "pygments_lexer": "ipython3",
      "version": "3.7.0"
    },
    "colab": {
      "name": "Vucut_Kitle_Indeksi.ipynb",
      "provenance": [],
      "include_colab_link": true
    }
  },
  "cells": [
    {
      "cell_type": "markdown",
      "metadata": {
        "id": "view-in-github",
        "colab_type": "text"
      },
      "source": [
        "<a href=\"https://colab.research.google.com/github/hediyeorhan/PYTHON/blob/master/VucutKitleIndeksi.ipynb\" target=\"_parent\"><img src=\"https://colab.research.google.com/assets/colab-badge.svg\" alt=\"Open In Colab\"/></a>"
      ]
    },
    {
      "cell_type": "code",
      "metadata": {
        "id": "WbsRmcQdlE9A",
        "colab_type": "code",
        "colab": {}
      },
      "source": [
        "import pandas as pd"
      ],
      "execution_count": null,
      "outputs": []
    },
    {
      "cell_type": "code",
      "metadata": {
        "id": "ibCv9-TplE9E",
        "colab_type": "code",
        "colab": {}
      },
      "source": [
        "bilgiler = pd.read_csv(\"kisi_listesi.csv\", sep = \";\")"
      ],
      "execution_count": null,
      "outputs": []
    },
    {
      "cell_type": "code",
      "metadata": {
        "id": "0qOdvwyElE9G",
        "colab_type": "code",
        "colab": {},
        "outputId": "54fbf4d3-4ead-44dd-a0d1-8cf8c7d9afbe"
      },
      "source": [
        "bilgiler"
      ],
      "execution_count": null,
      "outputs": [
        {
          "output_type": "execute_result",
          "data": {
            "text/html": [
              "<div>\n",
              "<style scoped>\n",
              "    .dataframe tbody tr th:only-of-type {\n",
              "        vertical-align: middle;\n",
              "    }\n",
              "\n",
              "    .dataframe tbody tr th {\n",
              "        vertical-align: top;\n",
              "    }\n",
              "\n",
              "    .dataframe thead th {\n",
              "        text-align: right;\n",
              "    }\n",
              "</style>\n",
              "<table border=\"1\" class=\"dataframe\">\n",
              "  <thead>\n",
              "    <tr style=\"text-align: right;\">\n",
              "      <th></th>\n",
              "      <th>ad_soyad</th>\n",
              "      <th>cinsiyet</th>\n",
              "      <th>yaş</th>\n",
              "      <th>boy(m)</th>\n",
              "      <th>kilo(kg)</th>\n",
              "      <th>meslek</th>\n",
              "    </tr>\n",
              "  </thead>\n",
              "  <tbody>\n",
              "    <tr>\n",
              "      <th>0</th>\n",
              "      <td>Ali Ağaç</td>\n",
              "      <td>Erkek</td>\n",
              "      <td>47</td>\n",
              "      <td>1.80</td>\n",
              "      <td>80</td>\n",
              "      <td>Mühendis</td>\n",
              "    </tr>\n",
              "    <tr>\n",
              "      <th>1</th>\n",
              "      <td>Ahmet Toprak</td>\n",
              "      <td>Erkek</td>\n",
              "      <td>29</td>\n",
              "      <td>1.75</td>\n",
              "      <td>67</td>\n",
              "      <td>Mühendis</td>\n",
              "    </tr>\n",
              "    <tr>\n",
              "      <th>2</th>\n",
              "      <td>Ayşe Çiçek</td>\n",
              "      <td>Kadın</td>\n",
              "      <td>37</td>\n",
              "      <td>1.67</td>\n",
              "      <td>59</td>\n",
              "      <td>Psikolog</td>\n",
              "    </tr>\n",
              "    <tr>\n",
              "      <th>3</th>\n",
              "      <td>Mehmet Ceviz</td>\n",
              "      <td>Erkek</td>\n",
              "      <td>43</td>\n",
              "      <td>1.70</td>\n",
              "      <td>60</td>\n",
              "      <td>Mühendis</td>\n",
              "    </tr>\n",
              "    <tr>\n",
              "      <th>4</th>\n",
              "      <td>Zeynep Ay</td>\n",
              "      <td>Kadın</td>\n",
              "      <td>23</td>\n",
              "      <td>1.75</td>\n",
              "      <td>70</td>\n",
              "      <td>Öğrenci</td>\n",
              "    </tr>\n",
              "    <tr>\n",
              "      <th>5</th>\n",
              "      <td>Murat Toprak</td>\n",
              "      <td>Erkek</td>\n",
              "      <td>35</td>\n",
              "      <td>1.79</td>\n",
              "      <td>85</td>\n",
              "      <td>Psikolog</td>\n",
              "    </tr>\n",
              "    <tr>\n",
              "      <th>6</th>\n",
              "      <td>Pınar Güneş</td>\n",
              "      <td>Kadın</td>\n",
              "      <td>53</td>\n",
              "      <td>1.70</td>\n",
              "      <td>65</td>\n",
              "      <td>Emekli</td>\n",
              "    </tr>\n",
              "    <tr>\n",
              "      <th>7</th>\n",
              "      <td>Ece Eski</td>\n",
              "      <td>Kadın</td>\n",
              "      <td>31</td>\n",
              "      <td>1.70</td>\n",
              "      <td>55</td>\n",
              "      <td>Psikolog</td>\n",
              "    </tr>\n",
              "    <tr>\n",
              "      <th>8</th>\n",
              "      <td>Aylin Gerçek</td>\n",
              "      <td>Kadın</td>\n",
              "      <td>34</td>\n",
              "      <td>1.69</td>\n",
              "      <td>67</td>\n",
              "      <td>Mühendis</td>\n",
              "    </tr>\n",
              "    <tr>\n",
              "      <th>9</th>\n",
              "      <td>Derya Atik</td>\n",
              "      <td>Kadın</td>\n",
              "      <td>30</td>\n",
              "      <td>1.70</td>\n",
              "      <td>55</td>\n",
              "      <td>Psikolog</td>\n",
              "    </tr>\n",
              "    <tr>\n",
              "      <th>10</th>\n",
              "      <td>Can Bal</td>\n",
              "      <td>Erkek</td>\n",
              "      <td>29</td>\n",
              "      <td>1.77</td>\n",
              "      <td>65</td>\n",
              "      <td>Çiftçi</td>\n",
              "    </tr>\n",
              "    <tr>\n",
              "      <th>11</th>\n",
              "      <td>Zeynep Çiçek</td>\n",
              "      <td>Kadın</td>\n",
              "      <td>39</td>\n",
              "      <td>1.70</td>\n",
              "      <td>50</td>\n",
              "      <td>Esnaf</td>\n",
              "    </tr>\n",
              "    <tr>\n",
              "      <th>12</th>\n",
              "      <td>Mustafa Yıldız</td>\n",
              "      <td>Erkek</td>\n",
              "      <td>45</td>\n",
              "      <td>1.64</td>\n",
              "      <td>63</td>\n",
              "      <td>Çiftçi</td>\n",
              "    </tr>\n",
              "    <tr>\n",
              "      <th>13</th>\n",
              "      <td>Pınar Yılmaz</td>\n",
              "      <td>Kadın</td>\n",
              "      <td>33</td>\n",
              "      <td>1.62</td>\n",
              "      <td>70</td>\n",
              "      <td>Öğretmen</td>\n",
              "    </tr>\n",
              "    <tr>\n",
              "      <th>14</th>\n",
              "      <td>Ayşe Cam</td>\n",
              "      <td>Kadın</td>\n",
              "      <td>35</td>\n",
              "      <td>1.61</td>\n",
              "      <td>50</td>\n",
              "      <td>Mühendis</td>\n",
              "    </tr>\n",
              "  </tbody>\n",
              "</table>\n",
              "</div>"
            ],
            "text/plain": [
              "          ad_soyad cinsiyet  yaş  boy(m)  kilo(kg)    meslek\n",
              "0         Ali Ağaç    Erkek   47    1.80        80  Mühendis\n",
              "1     Ahmet Toprak    Erkek   29    1.75        67  Mühendis\n",
              "2       Ayşe Çiçek    Kadın   37    1.67        59  Psikolog\n",
              "3     Mehmet Ceviz    Erkek   43    1.70        60  Mühendis\n",
              "4        Zeynep Ay    Kadın   23    1.75        70   Öğrenci\n",
              "5     Murat Toprak    Erkek   35    1.79        85  Psikolog\n",
              "6      Pınar Güneş    Kadın   53    1.70        65    Emekli\n",
              "7         Ece Eski    Kadın   31    1.70        55  Psikolog\n",
              "8     Aylin Gerçek    Kadın   34    1.69        67  Mühendis\n",
              "9       Derya Atik    Kadın   30    1.70        55  Psikolog\n",
              "10         Can Bal    Erkek   29    1.77        65    Çiftçi\n",
              "11    Zeynep Çiçek    Kadın   39    1.70        50     Esnaf\n",
              "12  Mustafa Yıldız    Erkek   45    1.64        63    Çiftçi\n",
              "13    Pınar Yılmaz    Kadın   33    1.62        70  Öğretmen\n",
              "14        Ayşe Cam    Kadın   35    1.61        50  Mühendis"
            ]
          },
          "metadata": {
            "tags": []
          },
          "execution_count": 3
        }
      ]
    },
    {
      "cell_type": "code",
      "metadata": {
        "id": "qkhqk7XmlE9K",
        "colab_type": "code",
        "colab": {}
      },
      "source": [
        "# vücut kitle indeksi  = kilo / boyların karesi\n",
        "boy_kare = bilgiler[\"boy(m)\"] ** 2"
      ],
      "execution_count": null,
      "outputs": []
    },
    {
      "cell_type": "code",
      "metadata": {
        "id": "U2r2jMV5lE9M",
        "colab_type": "code",
        "colab": {},
        "outputId": "14fc95d5-acce-41fb-8bdf-4536b1d7320f"
      },
      "source": [
        "boy_kare"
      ],
      "execution_count": null,
      "outputs": [
        {
          "output_type": "execute_result",
          "data": {
            "text/plain": [
              "0     3.2400\n",
              "1     3.0625\n",
              "2     2.7889\n",
              "3     2.8900\n",
              "4     3.0625\n",
              "5     3.2041\n",
              "6     2.8900\n",
              "7     2.8900\n",
              "8     2.8561\n",
              "9     2.8900\n",
              "10    3.1329\n",
              "11    2.8900\n",
              "12    2.6896\n",
              "13    2.6244\n",
              "14    2.5921\n",
              "Name: boy(m), dtype: float64"
            ]
          },
          "metadata": {
            "tags": []
          },
          "execution_count": 5
        }
      ]
    },
    {
      "cell_type": "code",
      "metadata": {
        "id": "iku50OHilE9P",
        "colab_type": "code",
        "colab": {}
      },
      "source": [
        "vucut_kitle_indeksi = bilgiler[\"kilo(kg)\"] / boy_kare"
      ],
      "execution_count": null,
      "outputs": []
    },
    {
      "cell_type": "code",
      "metadata": {
        "id": "wBTmk4FulE9R",
        "colab_type": "code",
        "colab": {},
        "outputId": "cd1fcb27-777d-466e-839f-9249a1df081c"
      },
      "source": [
        "vucut_kitle_indeksi"
      ],
      "execution_count": null,
      "outputs": [
        {
          "output_type": "execute_result",
          "data": {
            "text/plain": [
              "0     24.691358\n",
              "1     21.877551\n",
              "2     21.155294\n",
              "3     20.761246\n",
              "4     22.857143\n",
              "5     26.528510\n",
              "6     22.491349\n",
              "7     19.031142\n",
              "8     23.458562\n",
              "9     19.031142\n",
              "10    20.747550\n",
              "11    17.301038\n",
              "12    23.423557\n",
              "13    26.672763\n",
              "14    19.289379\n",
              "dtype: float64"
            ]
          },
          "metadata": {
            "tags": []
          },
          "execution_count": 7
        }
      ]
    },
    {
      "cell_type": "code",
      "metadata": {
        "id": "ZpcUyIKnlE9U",
        "colab_type": "code",
        "colab": {}
      },
      "source": [
        "# Her bireyin vücut kitle indeksini ayrı ayrı gözlemlemek için DataFrame'e hesapladığımız vücut kitle indeksi değerlerini ekledik.\n",
        "bilgiler[\"Vucut_Kitle_Indeksi\"] = vucut_kitle_indeksi"
      ],
      "execution_count": null,
      "outputs": []
    },
    {
      "cell_type": "code",
      "metadata": {
        "id": "QAC0MKyrlE9W",
        "colab_type": "code",
        "colab": {},
        "outputId": "84c15f30-ccc8-4a2f-9b4f-f008a33fa8b0"
      },
      "source": [
        "bilgiler"
      ],
      "execution_count": null,
      "outputs": [
        {
          "output_type": "execute_result",
          "data": {
            "text/html": [
              "<div>\n",
              "<style scoped>\n",
              "    .dataframe tbody tr th:only-of-type {\n",
              "        vertical-align: middle;\n",
              "    }\n",
              "\n",
              "    .dataframe tbody tr th {\n",
              "        vertical-align: top;\n",
              "    }\n",
              "\n",
              "    .dataframe thead th {\n",
              "        text-align: right;\n",
              "    }\n",
              "</style>\n",
              "<table border=\"1\" class=\"dataframe\">\n",
              "  <thead>\n",
              "    <tr style=\"text-align: right;\">\n",
              "      <th></th>\n",
              "      <th>ad_soyad</th>\n",
              "      <th>cinsiyet</th>\n",
              "      <th>yaş</th>\n",
              "      <th>boy(m)</th>\n",
              "      <th>kilo(kg)</th>\n",
              "      <th>meslek</th>\n",
              "      <th>Vucut_Kitle_Indeksi</th>\n",
              "    </tr>\n",
              "  </thead>\n",
              "  <tbody>\n",
              "    <tr>\n",
              "      <th>0</th>\n",
              "      <td>Ali Ağaç</td>\n",
              "      <td>Erkek</td>\n",
              "      <td>47</td>\n",
              "      <td>1.80</td>\n",
              "      <td>80</td>\n",
              "      <td>Mühendis</td>\n",
              "      <td>24.691358</td>\n",
              "    </tr>\n",
              "    <tr>\n",
              "      <th>1</th>\n",
              "      <td>Ahmet Toprak</td>\n",
              "      <td>Erkek</td>\n",
              "      <td>29</td>\n",
              "      <td>1.75</td>\n",
              "      <td>67</td>\n",
              "      <td>Mühendis</td>\n",
              "      <td>21.877551</td>\n",
              "    </tr>\n",
              "    <tr>\n",
              "      <th>2</th>\n",
              "      <td>Ayşe Çiçek</td>\n",
              "      <td>Kadın</td>\n",
              "      <td>37</td>\n",
              "      <td>1.67</td>\n",
              "      <td>59</td>\n",
              "      <td>Psikolog</td>\n",
              "      <td>21.155294</td>\n",
              "    </tr>\n",
              "    <tr>\n",
              "      <th>3</th>\n",
              "      <td>Mehmet Ceviz</td>\n",
              "      <td>Erkek</td>\n",
              "      <td>43</td>\n",
              "      <td>1.70</td>\n",
              "      <td>60</td>\n",
              "      <td>Mühendis</td>\n",
              "      <td>20.761246</td>\n",
              "    </tr>\n",
              "    <tr>\n",
              "      <th>4</th>\n",
              "      <td>Zeynep Ay</td>\n",
              "      <td>Kadın</td>\n",
              "      <td>23</td>\n",
              "      <td>1.75</td>\n",
              "      <td>70</td>\n",
              "      <td>Öğrenci</td>\n",
              "      <td>22.857143</td>\n",
              "    </tr>\n",
              "    <tr>\n",
              "      <th>5</th>\n",
              "      <td>Murat Toprak</td>\n",
              "      <td>Erkek</td>\n",
              "      <td>35</td>\n",
              "      <td>1.79</td>\n",
              "      <td>85</td>\n",
              "      <td>Psikolog</td>\n",
              "      <td>26.528510</td>\n",
              "    </tr>\n",
              "    <tr>\n",
              "      <th>6</th>\n",
              "      <td>Pınar Güneş</td>\n",
              "      <td>Kadın</td>\n",
              "      <td>53</td>\n",
              "      <td>1.70</td>\n",
              "      <td>65</td>\n",
              "      <td>Emekli</td>\n",
              "      <td>22.491349</td>\n",
              "    </tr>\n",
              "    <tr>\n",
              "      <th>7</th>\n",
              "      <td>Ece Eski</td>\n",
              "      <td>Kadın</td>\n",
              "      <td>31</td>\n",
              "      <td>1.70</td>\n",
              "      <td>55</td>\n",
              "      <td>Psikolog</td>\n",
              "      <td>19.031142</td>\n",
              "    </tr>\n",
              "    <tr>\n",
              "      <th>8</th>\n",
              "      <td>Aylin Gerçek</td>\n",
              "      <td>Kadın</td>\n",
              "      <td>34</td>\n",
              "      <td>1.69</td>\n",
              "      <td>67</td>\n",
              "      <td>Mühendis</td>\n",
              "      <td>23.458562</td>\n",
              "    </tr>\n",
              "    <tr>\n",
              "      <th>9</th>\n",
              "      <td>Derya Atik</td>\n",
              "      <td>Kadın</td>\n",
              "      <td>30</td>\n",
              "      <td>1.70</td>\n",
              "      <td>55</td>\n",
              "      <td>Psikolog</td>\n",
              "      <td>19.031142</td>\n",
              "    </tr>\n",
              "    <tr>\n",
              "      <th>10</th>\n",
              "      <td>Can Bal</td>\n",
              "      <td>Erkek</td>\n",
              "      <td>29</td>\n",
              "      <td>1.77</td>\n",
              "      <td>65</td>\n",
              "      <td>Çiftçi</td>\n",
              "      <td>20.747550</td>\n",
              "    </tr>\n",
              "    <tr>\n",
              "      <th>11</th>\n",
              "      <td>Zeynep Çiçek</td>\n",
              "      <td>Kadın</td>\n",
              "      <td>39</td>\n",
              "      <td>1.70</td>\n",
              "      <td>50</td>\n",
              "      <td>Esnaf</td>\n",
              "      <td>17.301038</td>\n",
              "    </tr>\n",
              "    <tr>\n",
              "      <th>12</th>\n",
              "      <td>Mustafa Yıldız</td>\n",
              "      <td>Erkek</td>\n",
              "      <td>45</td>\n",
              "      <td>1.64</td>\n",
              "      <td>63</td>\n",
              "      <td>Çiftçi</td>\n",
              "      <td>23.423557</td>\n",
              "    </tr>\n",
              "    <tr>\n",
              "      <th>13</th>\n",
              "      <td>Pınar Yılmaz</td>\n",
              "      <td>Kadın</td>\n",
              "      <td>33</td>\n",
              "      <td>1.62</td>\n",
              "      <td>70</td>\n",
              "      <td>Öğretmen</td>\n",
              "      <td>26.672763</td>\n",
              "    </tr>\n",
              "    <tr>\n",
              "      <th>14</th>\n",
              "      <td>Ayşe Cam</td>\n",
              "      <td>Kadın</td>\n",
              "      <td>35</td>\n",
              "      <td>1.61</td>\n",
              "      <td>50</td>\n",
              "      <td>Mühendis</td>\n",
              "      <td>19.289379</td>\n",
              "    </tr>\n",
              "  </tbody>\n",
              "</table>\n",
              "</div>"
            ],
            "text/plain": [
              "          ad_soyad cinsiyet  yaş  boy(m)  kilo(kg)    meslek  \\\n",
              "0         Ali Ağaç    Erkek   47    1.80        80  Mühendis   \n",
              "1     Ahmet Toprak    Erkek   29    1.75        67  Mühendis   \n",
              "2       Ayşe Çiçek    Kadın   37    1.67        59  Psikolog   \n",
              "3     Mehmet Ceviz    Erkek   43    1.70        60  Mühendis   \n",
              "4        Zeynep Ay    Kadın   23    1.75        70   Öğrenci   \n",
              "5     Murat Toprak    Erkek   35    1.79        85  Psikolog   \n",
              "6      Pınar Güneş    Kadın   53    1.70        65    Emekli   \n",
              "7         Ece Eski    Kadın   31    1.70        55  Psikolog   \n",
              "8     Aylin Gerçek    Kadın   34    1.69        67  Mühendis   \n",
              "9       Derya Atik    Kadın   30    1.70        55  Psikolog   \n",
              "10         Can Bal    Erkek   29    1.77        65    Çiftçi   \n",
              "11    Zeynep Çiçek    Kadın   39    1.70        50     Esnaf   \n",
              "12  Mustafa Yıldız    Erkek   45    1.64        63    Çiftçi   \n",
              "13    Pınar Yılmaz    Kadın   33    1.62        70  Öğretmen   \n",
              "14        Ayşe Cam    Kadın   35    1.61        50  Mühendis   \n",
              "\n",
              "    Vucut_Kitle_Indeksi  \n",
              "0             24.691358  \n",
              "1             21.877551  \n",
              "2             21.155294  \n",
              "3             20.761246  \n",
              "4             22.857143  \n",
              "5             26.528510  \n",
              "6             22.491349  \n",
              "7             19.031142  \n",
              "8             23.458562  \n",
              "9             19.031142  \n",
              "10            20.747550  \n",
              "11            17.301038  \n",
              "12            23.423557  \n",
              "13            26.672763  \n",
              "14            19.289379  "
            ]
          },
          "metadata": {
            "tags": []
          },
          "execution_count": 9
        }
      ]
    },
    {
      "cell_type": "code",
      "metadata": {
        "id": "aPmmNVkelE9b",
        "colab_type": "code",
        "colab": {}
      },
      "source": [
        "# GRAFİK"
      ],
      "execution_count": null,
      "outputs": []
    },
    {
      "cell_type": "code",
      "metadata": {
        "id": "popPXIuFlE9d",
        "colab_type": "code",
        "colab": {}
      },
      "source": [
        "import matplotlib.pyplot as plt"
      ],
      "execution_count": null,
      "outputs": []
    },
    {
      "cell_type": "code",
      "metadata": {
        "id": "Ijnyd3RWlE9f",
        "colab_type": "code",
        "colab": {},
        "outputId": "bf424b25-a3f8-4970-928e-1bcb7d7467dd"
      },
      "source": [
        "plt.figure(figsize=(30,15))\n",
        "plt.plot(bilgiler[\"ad_soyad\"], vucut_kitle_indeksi, color = 'red',linewidth = 6, marker =\"o\",markersize=20,markerfacecolor =\"black\")\n",
        "plt.title(\"VÜCUT KİTLE İNDEKSİ GRAFİĞİ\", color = \"blue\", size = 40)\n",
        "\n",
        "plt.xlabel(\"KİŞİLER\" , color = \"blue\", size = 40)\n",
        "\n",
        "plt.ylabel(\"VÜCUT KİTLE İNDEKS DEĞERLERİ\", color = \"blue\", size = 40)\n",
        "plt.show()"
      ],
      "execution_count": null,
      "outputs": [
        {
          "output_type": "display_data",
          "data": {
            "image/png": "[encoded data removed]",
            "text/plain": [
              "<Figure size 2160x1080 with 1 Axes>"
            ]
          },
          "metadata": {
            "tags": [],
            "needs_background": "light"
          }
        }
      ]
    },
    {
      "cell_type": "code",
      "metadata": {
        "id": "9FUKRLGrlE9h",
        "colab_type": "code",
        "colab": {}
      },
      "source": [
        ""
      ],
      "execution_count": null,
      "outputs": []
    },
    {
      "cell_type": "code",
      "metadata": {
        "id": "Vv2RVVkolE9j",
        "colab_type": "code",
        "colab": {}
      },
      "source": [
        ""
      ],
      "execution_count": null,
      "outputs": []
    },
    {
      "cell_type": "code",
      "metadata": {
        "id": "BN4M6tPjlE9l",
        "colab_type": "code",
        "colab": {}
      },
      "source": [
        ""
      ],
      "execution_count": null,
      "outputs": []
    }
  ]
}